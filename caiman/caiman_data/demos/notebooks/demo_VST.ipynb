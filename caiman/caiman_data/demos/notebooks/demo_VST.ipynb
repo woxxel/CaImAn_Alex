{
 "cells": [
  {
   "cell_type": "markdown",
   "metadata": {},
   "source": [
    "## Estimating noise and stabilizing variance in calcium imaging data\n",
    "\n",
    "The purpose of this notebook is to show how to use the VST transform for estimating the noise profile of calcium imaging data and apply a generalized Anscombe transform that aims to transform the noise into white Gaussian."
   ]
  },
  {
   "cell_type": "code",
   "execution_count": null,
   "metadata": {},
   "outputs": [],
   "source": [
    "get_ipython().magic('load_ext autoreload')\n",
    "get_ipython().magic('autoreload 2')\n",
    "\n",
    "import logging\n",
    "import matplotlib.pyplot as plt\n",
    "import numpy as np\n",
    "import os\n",
    "import timeit\n",
    "\n",
    "logging.basicConfig(format=\n",
    "                          \"%(relativeCreated)12d [%(filename)s:%(funcName)20s():%(lineno)s] [%(process)d] %(message)s\",\n",
    "                    # filename=\"/tmp/caiman.log\",\n",
    "                    level=logging.DEBUG)\n",
    "\n",
    "import caiman.external.houghvst.estimation as est\n",
    "from caiman.external.houghvst.gat import compute_gat, compute_inverse_gat\n",
    "import caiman as cm\n",
    "from caiman.paths import caiman_datadir"
   ]
  },
  {
   "cell_type": "markdown",
   "metadata": {},
   "source": [
    "Below is a function that will compute and apply the transformation and its inverse. The underlying noise model is scaled Poisson plus Gaussian, i.e., the underlying fluorescence value $x$ is related to the observed value $y$ by the equation\n",
    "\n",
    "$$y = \\alpha*\\text{Poisson}(x) + \\varepsilon$$\n",
    "\n",
    "where $\\alpha$ is non-negative scalar, and $\\varepsilon \\sim \\mathcal{N}(\\mu,\\sigma^2)$ is distributed according to a Gaussian distribution."
   ]
  },
  {
   "cell_type": "code",
   "execution_count": null,
   "metadata": {},
   "outputs": [],
   "source": [
    "def main():\n",
    "    fnames = [os.path.join(caiman_datadir(), 'example_movies', 'demoMovie.tif')]\n",
    "\n",
    "    movie = cm.load(fnames)\n",
    "    movie = movie.astype(np.float)\n",
    "\n",
    "    # makes estimation numerically better:\n",
    "    movie -= movie.mean()\n",
    "\n",
    "    # use one every 200 frames\n",
    "    temporal_stride = 100\n",
    "    # use one every 8 patches (patches are 8x8 by default)\n",
    "    spatial_stride = 6\n",
    "\n",
    "    movie_train = movie[::temporal_stride]\n",
    "\n",
    "    t = timeit.default_timer()\n",
    "    estimation_res = est.estimate_vst_movie(movie_train, stride=spatial_stride)\n",
    "    print('\\tTime', timeit.default_timer() - t)\n",
    "\n",
    "    alpha = estimation_res.alpha\n",
    "    sigma_sq = estimation_res.sigma_sq\n",
    "\n",
    "    movie_gat = compute_gat(movie, sigma_sq, alpha=alpha)\n",
    "    # save movie_gat here\n",
    "    movie_gat_inv = compute_inverse_gat(movie_gat, sigma_sq, alpha=alpha,\n",
    "                                        method='asym')\n",
    "    # save movie_gat_inv here\n",
    "    return movie, movie_gat, movie_gat_inv"
   ]
  },
  {
   "cell_type": "code",
   "execution_count": null,
   "metadata": {},
   "outputs": [],
   "source": [
    "movie, movie_gat, movie_gat_inv = main()"
   ]
  },
  {
   "cell_type": "markdown",
   "metadata": {},
   "source": [
    "The transformed movie should have more uniform dynamic range (press `q` to exit):"
   ]
  },
  {
   "cell_type": "code",
   "execution_count": null,
   "metadata": {},
   "outputs": [],
   "source": [
    "movie_gat.play(magnification=4, q_max=99.8)"
   ]
  },
  {
   "cell_type": "markdown",
   "metadata": {},
   "source": [
    "The movie might appear more noisy but information is preserved as seen from the correlation image:"
   ]
  },
  {
   "cell_type": "code",
   "execution_count": null,
   "metadata": {},
   "outputs": [],
   "source": [
    "CI = movie.local_correlations(swap_dim=False)\n",
    "CI_gat = movie_gat.local_correlations(swap_dim=False)\n",
    "plt.figure(figsize=(15,5))\n",
    "plt.subplot(1,2,1); plt.imshow(CI); plt.colorbar(); plt.title('Correlation Image (original)')\n",
    "plt.subplot(1,2,2); plt.imshow(CI_gat); plt.colorbar(); plt.title('Correlation Image (transformed)')"
   ]
  },
  {
   "cell_type": "markdown",
   "metadata": {},
   "source": [
    "The noise estimates in space should also be more uniform"
   ]
  },
  {
   "cell_type": "code",
   "execution_count": null,
   "metadata": {
    "scrolled": false
   },
   "outputs": [],
   "source": [
    "sn = cm.source_extraction.cnmf.pre_processing.get_noise_fft(movie.transpose(1,2,0), noise_method='mean')[0]\n",
    "sn_gat = cm.source_extraction.cnmf.pre_processing.get_noise_fft(movie_gat.transpose(1,2,0), noise_method='mean')[0]\n",
    "# sn = np.std(movie.transpose(1,2,0), axis=-1)\n",
    "# sn_gat = np.std(movie_gat.transpose(1,2,0), axis=-1)\n",
    "plt.figure(figsize=(15,5))\n",
    "plt.subplot(1,2,1); plt.imshow(sn); plt.colorbar(); plt.title('Noise standard deviation (original)')\n",
    "plt.subplot(1,2,2); plt.imshow(sn_gat); plt.colorbar(); plt.title('Noise standard deviation (transformed)')"
   ]
  },
  {
   "cell_type": "markdown",
   "metadata": {},
   "source": [
    "If we apply the inverse transform we approximately get back the original movie (press `q` to exit):"
   ]
  },
  {
   "cell_type": "code",
   "execution_count": null,
   "metadata": {},
   "outputs": [],
   "source": [
    "cm.concatenate([movie,movie_gat_inv],axis=2).play(magnification=5, q_max=99.5)"
   ]
  }
 ],
 "metadata": {
  "kernelspec": {
   "display_name": "Python 3",
   "language": "python",
   "name": "python3"
  },
  "language_info": {
   "codemirror_mode": {
    "name": "ipython",
    "version": 3
   },
   "file_extension": ".py",
   "mimetype": "text/x-python",
   "name": "python",
   "nbconvert_exporter": "python",
   "pygments_lexer": "ipython3",
   "version": "3.6.3"
  }
 },
 "nbformat": 4,
 "nbformat_minor": 2
}
